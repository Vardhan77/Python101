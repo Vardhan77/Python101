{
  "nbformat": 4,
  "nbformat_minor": 0,
  "metadata": {
    "colab": {
      "name": "Python101.ipynb",
      "version": "0.3.2",
      "provenance": []
    },
    "kernelspec": {
      "name": "python3",
      "display_name": "Python 3"
    }
  },
  "cells": [
    {
      "cell_type": "markdown",
      "metadata": {
        "id": "view-in-github",
        "colab_type": "text"
      },
      "source": [
        "[View in Colaboratory](https://colab.research.google.com/github/Vardhan77/Python101/blob/master/Python101.ipynb)"
      ]
    },
    {
      "metadata": {
        "id": "_2GKUOKwmFvd",
        "colab_type": "code",
        "colab": {
          "base_uri": "https://localhost:8080/",
          "height": 34
        },
        "outputId": "63594adf-2987-4c41-9b00-6a12da69899a"
      },
      "cell_type": "code",
      "source": [
        "def quicksort(eip):\n",
        "    if len(eip) <= 1:\n",
        "        return eip\n",
        "    mlblr = eip[len(eip) // 2]\n",
        "    eip_in = [mlblr_out for mlblr_out in eip if mlblr_out < mlblr]\n",
        "    eip_out = [mlblr_out for mlblr_out in eip if mlblr_out == mlblr]\n",
        "    mlblr_in = [mlblr_out for mlblr_out in eip if mlblr_out > mlblr]\n",
        "    return quicksort(eip_in) + eip_out + quicksort(mlblr_in)\n",
        "\n",
        "print(quicksort([3,6,8,10,1,2,1]))\n",
        "# Prints \"[1, 1, 2, 3, 6, 8, 10]\""
      ],
      "execution_count": 2,
      "outputs": [
        {
          "output_type": "stream",
          "text": [
            "[1, 1, 2, 3, 6, 8, 10]\n"
          ],
          "name": "stdout"
        }
      ]
    },
    {
      "metadata": {
        "id": "lRNmg1OlnErp",
        "colab_type": "code",
        "colab": {
          "base_uri": "https://localhost:8080/",
          "height": 185
        },
        "outputId": "4b483df9-98fa-4a36-a5f0-33d7ee446d49"
      },
      "cell_type": "code",
      "source": [
        "eip = 3\n",
        "print(type(eip)) # Prints \"<class 'int'>\"\n",
        "print(eip)       # Prints \"3\"\n",
        "print(eip + 1)   # Addition; prints \"4\"\n",
        "print(eip - 1)   # Subtraction; prints \"2\"\n",
        "print(eip * 2)   # Multiplication; prints \"6\"\n",
        "print(eip ** 2)  # Exponentiation; prints \"9\"\n",
        "eip += 1\n",
        "print(eip)  # Prints \"4\"\n",
        "eip *= 2\n",
        "print(eip)  # Prints \"8\"\n",
        "mlblr = 2.5\n",
        "print(type(mlblr)) # Prints \"<class 'float'>\"\n",
        "print(mlblr, mlblr + 1, mlblr * 2, mlblr ** 2) # Prints \"2.5 3.5 5.0 6.25\""
      ],
      "execution_count": 3,
      "outputs": [
        {
          "output_type": "stream",
          "text": [
            "<class 'int'>\n",
            "3\n",
            "4\n",
            "2\n",
            "6\n",
            "9\n",
            "4\n",
            "8\n",
            "<class 'float'>\n",
            "2.5 3.5 5.0 6.25\n"
          ],
          "name": "stdout"
        }
      ]
    },
    {
      "metadata": {
        "id": "MacGzrq3nl5R",
        "colab_type": "code",
        "colab": {
          "base_uri": "https://localhost:8080/",
          "height": 101
        },
        "outputId": "2b529335-b5b5-4ff8-a991-c0e2deb11808"
      },
      "cell_type": "code",
      "source": [
        "eip = True\n",
        "mlblr = False\n",
        "print(type(eip)) # Prints \"<class 'bool'>\"\n",
        "print(eip and mlblr) # Logical AND; prints \"False\"\n",
        "print(eip or mlblr)  # Logical OR; prints \"True\"\n",
        "print(not eip)   # Logical NOT; prints \"False\"\n",
        "print(eip != mlblr)  # Logical XOR; prints \"True\""
      ],
      "execution_count": 4,
      "outputs": [
        {
          "output_type": "stream",
          "text": [
            "<class 'bool'>\n",
            "False\n",
            "True\n",
            "False\n",
            "True\n"
          ],
          "name": "stdout"
        }
      ]
    },
    {
      "metadata": {
        "id": "nlSQWqP6n1ma",
        "colab_type": "code",
        "colab": {
          "base_uri": "https://localhost:8080/",
          "height": 84
        },
        "outputId": "c312482c-4107-42d5-bbda-82daa4f32aec"
      },
      "cell_type": "code",
      "source": [
        "eip = 'hello'    # String literals can use single quotes\n",
        "mlblr = \"world\"    # or double quotes; it does not matter.\n",
        "print(eip)       # Prints \"hello\"\n",
        "print(len(mlblr))  # String length; prints \"5\"\n",
        "eip_in = eip + ' ' + mlblr  # String concatenation\n",
        "print(eip_in)  # prints \"hello world\"\n",
        "eip_out = '%s %s %d' % (eip, mlblr, 12)  # sprintf style string formatting\n",
        "print(eip_out)  # prints \"hello world 12\""
      ],
      "execution_count": 6,
      "outputs": [
        {
          "output_type": "stream",
          "text": [
            "hello\n",
            "5\n",
            "hello world\n",
            "hello world 12\n"
          ],
          "name": "stdout"
        }
      ]
    },
    {
      "metadata": {
        "id": "MhqDHhLdoQRH",
        "colab_type": "code",
        "colab": {
          "base_uri": "https://localhost:8080/",
          "height": 118
        },
        "outputId": "63799980-5cd7-43e8-f851-3894b93b0f65"
      },
      "cell_type": "code",
      "source": [
        "eip = \"hello\"\n",
        "print(eip.capitalize())  # Capitalize a string; prints \"Hello\"\n",
        "print(eip.upper())       # Convert a string to uppercase; prints \"HELLO\"\n",
        "print(eip.rjust(7))      # Right-justify a string, padding with spaces; prints \"  hello\"\n",
        "print(eip.center(7))     # Center a string, padding with spaces; prints \" hello \"\n",
        "print(eip.replace('l', '(ell)'))  # Replace all instances of one substring with another;\n",
        "                                # prints \"he(ell)(ell)o\"\n",
        "print('  world '.strip())  # Strip leading and trailing whitespace; prints \"world\""
      ],
      "execution_count": 7,
      "outputs": [
        {
          "output_type": "stream",
          "text": [
            "Hello\n",
            "HELLO\n",
            "  hello\n",
            " hello \n",
            "he(ell)(ell)o\n",
            "world\n"
          ],
          "name": "stdout"
        }
      ]
    },
    {
      "metadata": {
        "id": "OTKYqt5RodDQ",
        "colab_type": "code",
        "colab": {
          "base_uri": "https://localhost:8080/",
          "height": 101
        },
        "outputId": "663ca67e-c26a-4cb1-8d03-957653aa8783"
      },
      "cell_type": "code",
      "source": [
        "mlblr = [3, 1, 2]    # Create a list\n",
        "print(mlblr, mlblr[2])  # Prints \"[3, 1, 2] 2\"\n",
        "print(mlblr[-1])     # Negative indices count from the end of the list; prints \"2\"\n",
        "mlblr[2] = 'foo'     # Lists can contain elements of different types\n",
        "print(mlblr)         # Prints \"[3, 1, 'foo']\"\n",
        "mlblr.append('bar')  # Add a new element to the end of the list\n",
        "print(mlblr)         # Prints \"[3, 1, 'foo', 'bar']\"\n",
        "eip = mlblr.pop()      # Remove and return the last element of the list\n",
        "print(eip, mlblr)      # Prints \"bar [3, 1, 'foo']\""
      ],
      "execution_count": 8,
      "outputs": [
        {
          "output_type": "stream",
          "text": [
            "[3, 1, 2] 2\n",
            "2\n",
            "[3, 1, 'foo']\n",
            "[3, 1, 'foo', 'bar']\n",
            "bar [3, 1, 'foo']\n"
          ],
          "name": "stdout"
        }
      ]
    },
    {
      "metadata": {
        "id": "z5SbFDBoo3L1",
        "colab_type": "code",
        "colab": {
          "base_uri": "https://localhost:8080/",
          "height": 135
        },
        "outputId": "43f22035-8bf0-4d97-ea9c-7986301432be"
      },
      "cell_type": "code",
      "source": [
        "eip = list(range(5))     # range is a built-in function that creates a list of integers\n",
        "print(eip)               # Prints \"[0, 1, 2, 3, 4]\"\n",
        "print(eip[2:4])          # Get a slice from index 2 to 4 (exclusive); prints \"[2, 3]\"\n",
        "print(eip[2:])           # Get a slice from index 2 to the end; prints \"[2, 3, 4]\"\n",
        "print(eip[:2])           # Get a slice from the start to index 2 (exclusive); prints \"[0, 1]\"\n",
        "print(eip[:])            # Get a slice of the whole list; prints \"[0, 1, 2, 3, 4]\"\n",
        "print(eip[:-1])          # Slice indices can be negative; prints \"[0, 1, 2, 3]\"\n",
        "eip[2:4] = [8, 9]        # Assign a new sublist to a slice\n",
        "print(eip)               # Prints \"[0, 1, 8, 9, 4]\""
      ],
      "execution_count": 9,
      "outputs": [
        {
          "output_type": "stream",
          "text": [
            "[0, 1, 2, 3, 4]\n",
            "[2, 3]\n",
            "[2, 3, 4]\n",
            "[0, 1]\n",
            "[0, 1, 2, 3, 4]\n",
            "[0, 1, 2, 3]\n",
            "[0, 1, 8, 9, 4]\n"
          ],
          "name": "stdout"
        }
      ]
    },
    {
      "metadata": {
        "id": "yHeW5HEjpG_1",
        "colab_type": "code",
        "colab": {
          "base_uri": "https://localhost:8080/",
          "height": 67
        },
        "outputId": "292d4dc1-2206-4e3f-b1be-ab79074c31cc"
      },
      "cell_type": "code",
      "source": [
        "mlblr = ['cat', 'dog', 'monkey']\n",
        "for eip in mlblr:\n",
        "    print(eip)\n",
        "# Prints \"cat\", \"dog\", \"monkey\", each on its own line."
      ],
      "execution_count": 10,
      "outputs": [
        {
          "output_type": "stream",
          "text": [
            "cat\n",
            "dog\n",
            "monkey\n"
          ],
          "name": "stdout"
        }
      ]
    },
    {
      "metadata": {
        "id": "f1zvPBcRpS6P",
        "colab_type": "code",
        "colab": {
          "base_uri": "https://localhost:8080/",
          "height": 67
        },
        "outputId": "c343af71-54a9-4f83-e0f2-037ca5bc6e24"
      },
      "cell_type": "code",
      "source": [
        "mlblr = ['cat', 'dog', 'monkey']\n",
        "for eip, mlblr_in in enumerate(mlblr):\n",
        "    print('#%d: %s' % (eip + 1, mlblr_in))\n",
        "# Prints \"#1: cat\", \"#2: dog\", \"#3: monkey\", each on its own line"
      ],
      "execution_count": 11,
      "outputs": [
        {
          "output_type": "stream",
          "text": [
            "#1: cat\n",
            "#2: dog\n",
            "#3: monkey\n"
          ],
          "name": "stdout"
        }
      ]
    },
    {
      "metadata": {
        "id": "8ups30OjpiLA",
        "colab_type": "code",
        "colab": {
          "base_uri": "https://localhost:8080/",
          "height": 34
        },
        "outputId": "76e83d19-9474-4b65-ecac-efe962cf1645"
      },
      "cell_type": "code",
      "source": [
        "\n",
        "eip = [0, 1, 2, 3, 4]\n",
        "mlblr = []\n",
        "for mlblr_in in eip:\n",
        "    mlblr.append(mlblr_in ** 2)\n",
        "print(mlblr)   # Prints [0, 1, 4, 9, 16]"
      ],
      "execution_count": 13,
      "outputs": [
        {
          "output_type": "stream",
          "text": [
            "[0, 1, 4, 9, 16]\n"
          ],
          "name": "stdout"
        }
      ]
    },
    {
      "metadata": {
        "id": "bDCJ-Nzft_la",
        "colab_type": "code",
        "colab": {
          "base_uri": "https://localhost:8080/",
          "height": 34
        },
        "outputId": "8e9fb52e-9f4e-4ec3-f135-c0185a830113"
      },
      "cell_type": "code",
      "source": [
        "eip = [0, 1, 2, 3, 4]\n",
        "mlblr = [eip_in ** 2 for eip_in in eip]\n",
        "print(mlblr)   # Prints [0, 1, 4, 9, 16]"
      ],
      "execution_count": 14,
      "outputs": [
        {
          "output_type": "stream",
          "text": [
            "[0, 1, 4, 9, 16]\n"
          ],
          "name": "stdout"
        }
      ]
    },
    {
      "metadata": {
        "id": "WoQPTXAOumkZ",
        "colab_type": "code",
        "colab": {
          "base_uri": "https://localhost:8080/",
          "height": 34
        },
        "outputId": "2b4a722a-136b-4f7a-c90b-bc86f5337fee"
      },
      "cell_type": "code",
      "source": [
        "eip = [0, 1, 2, 3, 4]\n",
        "mlblr = [eip_in ** 2 for eip_in in eip if eip_in % 2 == 0]\n",
        "print(mlblr)  # Prints \"[0, 4, 16]\""
      ],
      "execution_count": 15,
      "outputs": [
        {
          "output_type": "stream",
          "text": [
            "[0, 4, 16]\n"
          ],
          "name": "stdout"
        }
      ]
    },
    {
      "metadata": {
        "id": "UHgjljpEu0KB",
        "colab_type": "code",
        "colab": {
          "base_uri": "https://localhost:8080/",
          "height": 118
        },
        "outputId": "4a56f909-7344-4c09-ec3d-527dcb6a7ccc"
      },
      "cell_type": "code",
      "source": [
        "eip = {'cat': 'cute', 'dog': 'furry'}  # Create a new dictionary with some data\n",
        "print(eip['cat'])       # Get an entry from a dictionary; prints \"cute\"\n",
        "print('cat' in eip)     # Check if a dictionary has a given key; prints \"True\"\n",
        "eip['fish'] = 'wet'     # Set an entry in a dictionary\n",
        "print(eip['fish'])      # Prints \"wet\"\n",
        "# print(eip['monkey'])  # KeyError: 'monkey' not a key of d\n",
        "print(eip.get('monkey', 'N/A'))  # Get an element with a default; prints \"N/A\"\n",
        "print(eip.get('fish', 'N/A'))    # Get an element with a default; prints \"wet\"\n",
        "del eip['fish']         # Remove an element from a dictionary\n",
        "print(eip.get('fish', 'N/A')) # \"fish\" is no longer a key; prints \"N/A\""
      ],
      "execution_count": 16,
      "outputs": [
        {
          "output_type": "stream",
          "text": [
            "cute\n",
            "True\n",
            "wet\n",
            "N/A\n",
            "wet\n",
            "N/A\n"
          ],
          "name": "stdout"
        }
      ]
    },
    {
      "metadata": {
        "id": "1_Tlc7WAvRyO",
        "colab_type": "code",
        "colab": {
          "base_uri": "https://localhost:8080/",
          "height": 67
        },
        "outputId": "3b52889c-0e3d-483a-b058-ddfb54f2624c"
      },
      "cell_type": "code",
      "source": [
        "eip = {'person': 2, 'cat': 4, 'spider': 8}\n",
        "for mlblr in eip:\n",
        "    mlblr_out = eip[mlblr]\n",
        "    print('A %s has %d legs' % (mlblr, mlblr_out))\n",
        "# Prints \"A person has 2 legs\", \"A cat has 4 legs\", \"A spider has 8 legs\""
      ],
      "execution_count": 17,
      "outputs": [
        {
          "output_type": "stream",
          "text": [
            "A person has 2 legs\n",
            "A cat has 4 legs\n",
            "A spider has 8 legs\n"
          ],
          "name": "stdout"
        }
      ]
    },
    {
      "metadata": {
        "id": "LBdSb0O6vgPQ",
        "colab_type": "code",
        "colab": {
          "base_uri": "https://localhost:8080/",
          "height": 34
        },
        "outputId": "3d23f810-f27c-4e05-c501-e038faccb0f8"
      },
      "cell_type": "code",
      "source": [
        "from math import sqrt\n",
        "mlblr = {int(sqrt(eip)) for eip in range(30)}\n",
        "print(mlblr)  # Prints \"{0, 1, 2, 3, 4, 5}\""
      ],
      "execution_count": 18,
      "outputs": [
        {
          "output_type": "stream",
          "text": [
            "{0, 1, 2, 3, 4, 5}\n"
          ],
          "name": "stdout"
        }
      ]
    },
    {
      "metadata": {
        "id": "hOLneb3NwMt7",
        "colab_type": "code",
        "colab": {
          "base_uri": "https://localhost:8080/",
          "height": 67
        },
        "outputId": "47a552db-00d3-4472-c914-1d44090d401a"
      },
      "cell_type": "code",
      "source": [
        "eip = {(eip_in, eip_in + 1): eip_in for eip_in in range(10)}  # Create a dictionary with tuple keys\n",
        "mlblr = (5, 6)        # Create a tuple\n",
        "print(type(mlblr))    # Prints \"<class 'tuple'>\"\n",
        "print(eip[mlblr])       # Prints \"5\"\n",
        "print(eip[(1, 2)])  # Prints \"1\""
      ],
      "execution_count": 19,
      "outputs": [
        {
          "output_type": "stream",
          "text": [
            "<class 'tuple'>\n",
            "5\n",
            "1\n"
          ],
          "name": "stdout"
        }
      ]
    },
    {
      "metadata": {
        "id": "ArlJaG04wqZk",
        "colab_type": "code",
        "colab": {
          "base_uri": "https://localhost:8080/",
          "height": 51
        },
        "outputId": "25467a47-80d0-4656-e04d-d308eb55febb"
      },
      "cell_type": "code",
      "source": [
        "class mlblr_out(object):\n",
        "\n",
        "    # Constructor\n",
        "    def __init__(self, mlblr):\n",
        "        self.mlblr = mlblr  # Create an instance variable\n",
        "\n",
        "    # Instance method\n",
        "    def eip_out(self, eip=False):\n",
        "        if eip:\n",
        "            print('HELLO, %s!' % self.mlblr.upper())\n",
        "        else:\n",
        "            print('Hello, %s' % self.mlblr)\n",
        "\n",
        "eip_in = mlblr_out('Fred')  # Construct an instance of the Greeter class\n",
        "eip_in.eip_out()            # Call an instance method; prints \"Hello, Fred\"\n",
        "eip_in.eip_out(eip=True)   # Call an instance method; prints \"HELLO, FRED!\""
      ],
      "execution_count": 21,
      "outputs": [
        {
          "output_type": "stream",
          "text": [
            "Hello, Fred\n",
            "HELLO, FRED!\n"
          ],
          "name": "stdout"
        }
      ]
    }
  ]
}